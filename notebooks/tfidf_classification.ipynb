{
 "cells": [
  {
   "cell_type": "code",
   "execution_count": 55,
   "id": "214d570b",
   "metadata": {},
   "outputs": [
    {
     "name": "stdout",
     "output_type": "stream",
     "text": [
      "The autoreload extension is already loaded. To reload it, use:\n",
      "  %reload_ext autoreload\n"
     ]
    }
   ],
   "source": [
    "%load_ext autoreload\n",
    "%autoreload 2\n",
    "\n",
    "import pickle as pkl\n",
    "import os\n",
    "import sys\n",
    "import string\n",
    "sys.path.append('../../')\n",
    "\n",
    "import matplotlib.pyplot as plt\n",
    "import seaborn as sns\n",
    "import numpy as np\n",
    "import pandas as pd\n",
    "import re\n",
    "import xgboost\n",
    "\n",
    "from langdetect import detect\n",
    "from sklearn.metrics import classification_report, confusion_matrix\n",
    "from sklearn.decomposition import PCA, TruncatedSVD\n",
    "from sklearn.feature_extraction.text import TfidfVectorizer\n",
    "from tqdm.notebook import tqdm_notebook as tqdm\n",
    "\n",
    "from comscore_task.settings import DATASETS_DIR, STORAGE_DIR\n",
    "\n",
    "tqdm.pandas()"
   ]
  },
  {
   "cell_type": "code",
   "execution_count": 74,
   "id": "e5ddd866",
   "metadata": {},
   "outputs": [],
   "source": [
    "class_mapping = {\n",
    "    'FB': 0,\n",
    "    'TW': 1\n",
    "}\n",
    "reverse_class_mapping = {v: k for k, v in class_mapping.items()}"
   ]
  },
  {
   "cell_type": "code",
   "execution_count": 41,
   "id": "4409c712",
   "metadata": {},
   "outputs": [],
   "source": [
    "df = pd.read_parquet(DATASETS_DIR / 'train_data.parquet')\n",
    "y_train = df['platform'].replace(class_mapping).values"
   ]
  },
  {
   "cell_type": "code",
   "execution_count": 61,
   "id": "8af34944",
   "metadata": {},
   "outputs": [],
   "source": [
    "val_df = pd.read_parquet(DATASETS_DIR / 'val_data_post_content.parquet')\n",
    "val_target_df = pd.read_parquet(DATASETS_DIR / 'val_data_platform.parquet')\n",
    "y_val = val_target_df['platform'].replace(class_mapping).values"
   ]
  },
  {
   "cell_type": "code",
   "execution_count": 9,
   "id": "9acfa2db",
   "metadata": {},
   "outputs": [],
   "source": [
    "def preprocess_text(text: str) -> str:\n",
    "    text = re.sub(r'\\n', ' ', text)\n",
    "    text = text.strip()\n",
    "    text = text.lower()\n",
    "    text = text.translate(str.maketrans('', '', string.punctuation))\n",
    "    text = re.sub(r'\\s+', ' ', text)\n",
    "    return text"
   ]
  },
  {
   "cell_type": "code",
   "execution_count": 10,
   "id": "b68fc491",
   "metadata": {},
   "outputs": [
    {
     "data": {
      "text/html": [
       "<div>\n",
       "<style scoped>\n",
       "    .dataframe tbody tr th:only-of-type {\n",
       "        vertical-align: middle;\n",
       "    }\n",
       "\n",
       "    .dataframe tbody tr th {\n",
       "        vertical-align: top;\n",
       "    }\n",
       "\n",
       "    .dataframe thead th {\n",
       "        text-align: right;\n",
       "    }\n",
       "</style>\n",
       "<table border=\"1\" class=\"dataframe\">\n",
       "  <thead>\n",
       "    <tr style=\"text-align: right;\">\n",
       "      <th></th>\n",
       "      <th>brand_id</th>\n",
       "      <th>post_content</th>\n",
       "      <th>platform</th>\n",
       "    </tr>\n",
       "  </thead>\n",
       "  <tbody>\n",
       "    <tr>\n",
       "      <th>0</th>\n",
       "      <td>9b39285ec9cf47baaa51d1ea18eec8cc</td>\n",
       "      <td>#LoSéTodo La violación a la intimidad tiene co...</td>\n",
       "      <td>FB</td>\n",
       "    </tr>\n",
       "    <tr>\n",
       "      <th>1</th>\n",
       "      <td>18cbba7c95b741e9bb477778c5cce568</td>\n",
       "      <td>Whoopi Goldberg apologizes after saying the Ho...</td>\n",
       "      <td>FB</td>\n",
       "    </tr>\n",
       "    <tr>\n",
       "      <th>2</th>\n",
       "      <td>a63ceb8f478e43938416f2a9a1c5bacd</td>\n",
       "      <td>Nochevieja se llama Hogmanay en Escocia y la m...</td>\n",
       "      <td>TW</td>\n",
       "    </tr>\n",
       "    <tr>\n",
       "      <th>3</th>\n",
       "      <td>acbba767a3854bd3b324da5a1c896fe6</td>\n",
       "      <td>Kiss my to welcome in the New Years and finger...</td>\n",
       "      <td>TW</td>\n",
       "    </tr>\n",
       "    <tr>\n",
       "      <th>4</th>\n",
       "      <td>0dc1b14b735e47c5861dc8238bb218e0</td>\n",
       "      <td>— Hiding in plain sight on a dusty corner of t...</td>\n",
       "      <td>FB</td>\n",
       "    </tr>\n",
       "  </tbody>\n",
       "</table>\n",
       "</div>"
      ],
      "text/plain": [
       "                           brand_id  \\\n",
       "0  9b39285ec9cf47baaa51d1ea18eec8cc   \n",
       "1  18cbba7c95b741e9bb477778c5cce568   \n",
       "2  a63ceb8f478e43938416f2a9a1c5bacd   \n",
       "3  acbba767a3854bd3b324da5a1c896fe6   \n",
       "4  0dc1b14b735e47c5861dc8238bb218e0   \n",
       "\n",
       "                                        post_content platform  \n",
       "0  #LoSéTodo La violación a la intimidad tiene co...       FB  \n",
       "1  Whoopi Goldberg apologizes after saying the Ho...       FB  \n",
       "2  Nochevieja se llama Hogmanay en Escocia y la m...       TW  \n",
       "3  Kiss my to welcome in the New Years and finger...       TW  \n",
       "4  — Hiding in plain sight on a dusty corner of t...       FB  "
      ]
     },
     "execution_count": 10,
     "metadata": {},
     "output_type": "execute_result"
    }
   ],
   "source": [
    "df.head()"
   ]
  },
  {
   "cell_type": "code",
   "execution_count": 49,
   "id": "f9bb1675",
   "metadata": {},
   "outputs": [
    {
     "data": {
      "application/vnd.jupyter.widget-view+json": {
       "model_id": "03be81535827431abee030d8757acbe1",
       "version_major": 2,
       "version_minor": 0
      },
      "text/plain": [
       "  0%|          | 0/77873 [00:00<?, ?it/s]"
      ]
     },
     "metadata": {},
     "output_type": "display_data"
    },
    {
     "data": {
      "application/vnd.jupyter.widget-view+json": {
       "model_id": "56f19f5b7543462e8d180bfc4ac94567",
       "version_major": 2,
       "version_minor": 0
      },
      "text/plain": [
       "  0%|          | 0/9734 [00:00<?, ?it/s]"
      ]
     },
     "metadata": {},
     "output_type": "display_data"
    }
   ],
   "source": [
    "df['preprocessed_post'] = df['post_content'].progress_apply(lambda text: preprocess_text(text))\n",
    "val_df['preprocessed_post'] = val_df['post_content'].progress_apply(lambda text: preprocess_text(text))"
   ]
  },
  {
   "cell_type": "code",
   "execution_count": 16,
   "id": "f9cf48ee",
   "metadata": {},
   "outputs": [],
   "source": [
    "tfidf_vectorizer = TfidfVectorizer()\n",
    "tfidf_train_sparse = tfidf_vectorizer.fit_transform(df['preprocessed_post'])"
   ]
  },
  {
   "cell_type": "code",
   "execution_count": 52,
   "id": "9f416368",
   "metadata": {},
   "outputs": [],
   "source": [
    "models_dir = STORAGE_DIR / 'models'\n",
    "os.makedirs(models_dir, exist_ok=True)\n",
    "\n",
    "with open(models_dir / 'tfidf_vectorizer.pkl', 'wb') as f:\n",
    "    pkl.dump(tfidf_vectorizer, f)"
   ]
  },
  {
   "cell_type": "code",
   "execution_count": 50,
   "id": "3b777ae9",
   "metadata": {},
   "outputs": [],
   "source": [
    "tfidf_val_sparse = tfidf_vectorizer.transform(val_df['preprocessed_post'])"
   ]
  },
  {
   "cell_type": "code",
   "execution_count": 18,
   "id": "d6f38b5e",
   "metadata": {},
   "outputs": [
    {
     "data": {
      "text/plain": [
       "(77873, 226118)"
      ]
     },
     "execution_count": 18,
     "metadata": {},
     "output_type": "execute_result"
    }
   ],
   "source": [
    "tfidf_train_sparse.shape"
   ]
  },
  {
   "cell_type": "code",
   "execution_count": 51,
   "id": "1167ac93",
   "metadata": {},
   "outputs": [
    {
     "data": {
      "text/plain": [
       "(9734, 226118)"
      ]
     },
     "execution_count": 51,
     "metadata": {},
     "output_type": "execute_result"
    }
   ],
   "source": [
    "tfidf_val_sparse.shape"
   ]
  },
  {
   "cell_type": "code",
   "execution_count": 20,
   "id": "fb7905e6",
   "metadata": {},
   "outputs": [],
   "source": [
    "max_num_components = 2000\n",
    "svd = TruncatedSVD(max_num_components, random_state=42).fit(tfidf_train_sparse)"
   ]
  },
  {
   "cell_type": "code",
   "execution_count": 21,
   "id": "b57982b4",
   "metadata": {},
   "outputs": [
    {
     "data": {
      "image/png": "[encoded data removed]",
      "text/plain": [
       "<Figure size 432x288 with 1 Axes>"
      ]
     },
     "metadata": {
      "needs_background": "light"
     },
     "output_type": "display_data"
    }
   ],
   "source": [
    "plt.plot(np.cumsum(svd.explained_variance_ratio_))\n",
    "plt.xlabel('Components number')\n",
    "plt.ylabel('Cumulated explained variance')\n",
    "plt.grid()"
   ]
  },
  {
   "cell_type": "code",
   "execution_count": 27,
   "id": "f3ac6ce9",
   "metadata": {},
   "outputs": [],
   "source": [
    "models_dir = STORAGE_DIR / 'models'\n",
    "os.makedirs(models_dir, exist_ok=True)\n",
    "\n",
    "with open(models_dir / 'svd.pkl', 'wb') as f:\n",
    "    pkl.dump(svd, f)"
   ]
  },
  {
   "cell_type": "code",
   "execution_count": 28,
   "id": "b0763ea0",
   "metadata": {},
   "outputs": [],
   "source": [
    "x_svd_tfidf_train = svd.transform(tfidf_train_sparse)"
   ]
  },
  {
   "cell_type": "code",
   "execution_count": 53,
   "id": "2fb9594f",
   "metadata": {},
   "outputs": [],
   "source": [
    "x_svd_tfidf_val = svd.transform(tfidf_val_sparse)"
   ]
  },
  {
   "cell_type": "code",
   "execution_count": 46,
   "id": "9bbebc43",
   "metadata": {},
   "outputs": [
    {
     "data": {
      "text/html": [
       "<style>#sk-container-id-1 {color: black;background-color: white;}#sk-container-id-1 pre{padding: 0;}#sk-container-id-1 div.sk-toggleable {background-color: white;}#sk-container-id-1 label.sk-toggleable__label {cursor: pointer;display: block;width: 100%;margin-bottom: 0;padding: 0.3em;box-sizing: border-box;text-align: center;}#sk-container-id-1 label.sk-toggleable__label-arrow:before {content: \"▸\";float: left;margin-right: 0.25em;color: #696969;}#sk-container-id-1 label.sk-toggleable__label-arrow:hover:before {color: black;}#sk-container-id-1 div.sk-estimator:hover label.sk-toggleable__label-arrow:before {color: black;}#sk-container-id-1 div.sk-toggleable__content {max-height: 0;max-width: 0;overflow: hidden;text-align: left;background-color: #f0f8ff;}#sk-container-id-1 div.sk-toggleable__content pre {margin: 0.2em;color: black;border-radius: 0.25em;background-color: #f0f8ff;}#sk-container-id-1 input.sk-toggleable__control:checked~div.sk-toggleable__content {max-height: 200px;max-width: 100%;overflow: auto;}#sk-container-id-1 input.sk-toggleable__control:checked~label.sk-toggleable__label-arrow:before {content: \"▾\";}#sk-container-id-1 div.sk-estimator input.sk-toggleable__control:checked~label.sk-toggleable__label {background-color: #d4ebff;}#sk-container-id-1 div.sk-label input.sk-toggleable__control:checked~label.sk-toggleable__label {background-color: #d4ebff;}#sk-container-id-1 input.sk-hidden--visually {border: 0;clip: rect(1px 1px 1px 1px);clip: rect(1px, 1px, 1px, 1px);height: 1px;margin: -1px;overflow: hidden;padding: 0;position: absolute;width: 1px;}#sk-container-id-1 div.sk-estimator {font-family: monospace;background-color: #f0f8ff;border: 1px dotted black;border-radius: 0.25em;box-sizing: border-box;margin-bottom: 0.5em;}#sk-container-id-1 div.sk-estimator:hover {background-color: #d4ebff;}#sk-container-id-1 div.sk-parallel-item::after {content: \"\";width: 100%;border-bottom: 1px solid gray;flex-grow: 1;}#sk-container-id-1 div.sk-label:hover label.sk-toggleable__label {background-color: #d4ebff;}#sk-container-id-1 div.sk-serial::before {content: \"\";position: absolute;border-left: 1px solid gray;box-sizing: border-box;top: 0;bottom: 0;left: 50%;z-index: 0;}#sk-container-id-1 div.sk-serial {display: flex;flex-direction: column;align-items: center;background-color: white;padding-right: 0.2em;padding-left: 0.2em;position: relative;}#sk-container-id-1 div.sk-item {position: relative;z-index: 1;}#sk-container-id-1 div.sk-parallel {display: flex;align-items: stretch;justify-content: center;background-color: white;position: relative;}#sk-container-id-1 div.sk-item::before, #sk-container-id-1 div.sk-parallel-item::before {content: \"\";position: absolute;border-left: 1px solid gray;box-sizing: border-box;top: 0;bottom: 0;left: 50%;z-index: -1;}#sk-container-id-1 div.sk-parallel-item {display: flex;flex-direction: column;z-index: 1;position: relative;background-color: white;}#sk-container-id-1 div.sk-parallel-item:first-child::after {align-self: flex-end;width: 50%;}#sk-container-id-1 div.sk-parallel-item:last-child::after {align-self: flex-start;width: 50%;}#sk-container-id-1 div.sk-parallel-item:only-child::after {width: 0;}#sk-container-id-1 div.sk-dashed-wrapped {border: 1px dashed gray;margin: 0 0.4em 0.5em 0.4em;box-sizing: border-box;padding-bottom: 0.4em;background-color: white;}#sk-container-id-1 div.sk-label label {font-family: monospace;font-weight: bold;display: inline-block;line-height: 1.2em;}#sk-container-id-1 div.sk-label-container {text-align: center;}#sk-container-id-1 div.sk-container {/* jupyter's `normalize.less` sets `[hidden] { display: none; }` but bootstrap.min.css set `[hidden] { display: none !important; }` so we also need the `!important` here to be able to override the default hidden behavior on the sphinx rendered scikit-learn.org. See: https://github.com/scikit-learn/scikit-learn/issues/21755 */display: inline-block !important;position: relative;}#sk-container-id-1 div.sk-text-repr-fallback {display: none;}</style><div id=\"sk-container-id-1\" class=\"sk-top-container\"><div class=\"sk-text-repr-fallback\"><pre>XGBClassifier(base_score=0.5, booster=&#x27;gbtree&#x27;, callbacks=None,\n",
       "              colsample_bylevel=1, colsample_bynode=1, colsample_bytree=1,\n",
       "              early_stopping_rounds=None, enable_categorical=False,\n",
       "              eval_metric=None, gamma=0, gpu_id=-1, grow_policy=&#x27;depthwise&#x27;,\n",
       "              importance_type=None, interaction_constraints=&#x27;&#x27;,\n",
       "              learning_rate=0.300000012, max_bin=256, max_cat_to_onehot=4,\n",
       "              max_delta_step=0, max_depth=6, max_leaves=0, min_child_weight=1,\n",
       "              missing=nan, monotone_constraints=&#x27;()&#x27;, n_estimators=100,\n",
       "              n_jobs=0, num_parallel_tree=1, predictor=&#x27;auto&#x27;, random_state=0,\n",
       "              reg_alpha=0, reg_lambda=1, ...)</pre><b>In a Jupyter environment, please rerun this cell to show the HTML representation or trust the notebook. <br />On GitHub, the HTML representation is unable to render, please try loading this page with nbviewer.org.</b></div><div class=\"sk-container\" hidden><div class=\"sk-item\"><div class=\"sk-estimator sk-toggleable\"><input class=\"sk-toggleable__control sk-hidden--visually\" id=\"sk-estimator-id-1\" type=\"checkbox\" checked><label for=\"sk-estimator-id-1\" class=\"sk-toggleable__label sk-toggleable__label-arrow\">XGBClassifier</label><div class=\"sk-toggleable__content\"><pre>XGBClassifier(base_score=0.5, booster=&#x27;gbtree&#x27;, callbacks=None,\n",
       "              colsample_bylevel=1, colsample_bynode=1, colsample_bytree=1,\n",
       "              early_stopping_rounds=None, enable_categorical=False,\n",
       "              eval_metric=None, gamma=0, gpu_id=-1, grow_policy=&#x27;depthwise&#x27;,\n",
       "              importance_type=None, interaction_constraints=&#x27;&#x27;,\n",
       "              learning_rate=0.300000012, max_bin=256, max_cat_to_onehot=4,\n",
       "              max_delta_step=0, max_depth=6, max_leaves=0, min_child_weight=1,\n",
       "              missing=nan, monotone_constraints=&#x27;()&#x27;, n_estimators=100,\n",
       "              n_jobs=0, num_parallel_tree=1, predictor=&#x27;auto&#x27;, random_state=0,\n",
       "              reg_alpha=0, reg_lambda=1, ...)</pre></div></div></div></div></div>"
      ],
      "text/plain": [
       "XGBClassifier(base_score=0.5, booster='gbtree', callbacks=None,\n",
       "              colsample_bylevel=1, colsample_bynode=1, colsample_bytree=1,\n",
       "              early_stopping_rounds=None, enable_categorical=False,\n",
       "              eval_metric=None, gamma=0, gpu_id=-1, grow_policy='depthwise',\n",
       "              importance_type=None, interaction_constraints='',\n",
       "              learning_rate=0.300000012, max_bin=256, max_cat_to_onehot=4,\n",
       "              max_delta_step=0, max_depth=6, max_leaves=0, min_child_weight=1,\n",
       "              missing=nan, monotone_constraints='()', n_estimators=100,\n",
       "              n_jobs=0, num_parallel_tree=1, predictor='auto', random_state=0,\n",
       "              reg_alpha=0, reg_lambda=1, ...)"
      ]
     },
     "execution_count": 46,
     "metadata": {},
     "output_type": "execute_result"
    }
   ],
   "source": [
    "model = xgboost.XGBClassifier()\n",
    "model.fit(x_svd_tfidf_train, y_train)"
   ]
  },
  {
   "cell_type": "code",
   "execution_count": 79,
   "id": "f28bd2ad",
   "metadata": {},
   "outputs": [],
   "source": [
    "with open(models_dir / 'xgb_model.pkl', 'wb') as f:\n",
    "    pkl.dump(model, f)"
   ]
  },
  {
   "cell_type": "code",
   "execution_count": 62,
   "id": "51322665",
   "metadata": {},
   "outputs": [
    {
     "data": {
      "text/plain": [
       "(9734, 2000)"
      ]
     },
     "execution_count": 62,
     "metadata": {},
     "output_type": "execute_result"
    }
   ],
   "source": [
    "x_svd_tfidf_val.shape"
   ]
  },
  {
   "cell_type": "code",
   "execution_count": 63,
   "id": "d57d027e",
   "metadata": {},
   "outputs": [
    {
     "data": {
      "text/plain": [
       "(9734,)"
      ]
     },
     "execution_count": 63,
     "metadata": {},
     "output_type": "execute_result"
    }
   ],
   "source": [
    "y_val.shape"
   ]
  },
  {
   "cell_type": "code",
   "execution_count": 68,
   "id": "2797488c",
   "metadata": {},
   "outputs": [
    {
     "data": {
      "text/plain": [
       "['FB', 'TW']"
      ]
     },
     "execution_count": 68,
     "metadata": {},
     "output_type": "execute_result"
    }
   ],
   "source": [
    "list(class_mapping.keys())"
   ]
  },
  {
   "cell_type": "code",
   "execution_count": 69,
   "id": "35181f5e",
   "metadata": {},
   "outputs": [
    {
     "name": "stdout",
     "output_type": "stream",
     "text": [
      "              precision    recall  f1-score   support\n",
      "\n",
      "          FB       0.67      0.68      0.67      4734\n",
      "          TW       0.69      0.68      0.69      5000\n",
      "\n",
      "    accuracy                           0.68      9734\n",
      "   macro avg       0.68      0.68      0.68      9734\n",
      "weighted avg       0.68      0.68      0.68      9734\n",
      "\n"
     ]
    }
   ],
   "source": [
    "y_pred = model.predict(x_svd_tfidf_val)\n",
    "print(classification_report(y_val, y_pred, target_names=list(class_mapping.keys())))"
   ]
  },
  {
   "cell_type": "code",
   "execution_count": 77,
   "id": "063f24a8",
   "metadata": {},
   "outputs": [],
   "source": []
  }
 ],
 "metadata": {
  "kernelspec": {
   "display_name": "Python 3 (ipykernel)",
   "language": "python",
   "name": "python3"
  },
  "language_info": {
   "codemirror_mode": {
    "name": "ipython",
    "version": 3
   },
   "file_extension": ".py",
   "mimetype": "text/x-python",
   "name": "python",
   "nbconvert_exporter": "python",
   "pygments_lexer": "ipython3",
   "version": "3.8.7"
  }
 },
 "nbformat": 4,
 "nbformat_minor": 5
}
